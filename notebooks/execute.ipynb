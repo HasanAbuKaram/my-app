{
 "cells": [
  {
   "cell_type": "markdown",
   "metadata": {},
   "source": [
    "**Other Options**\n",
    "\n",
    "To run multiple modules (e.g., ./queue/main.go and ./services/procurement/main.go) simultaneously in a go work workspace, you can follow these approaches:\n",
    "\n",
    "Manual Terminal: Run each service in a separate terminal.\n",
    "Makefile: Use a Makefile to run services in parallel.\n",
    "Bash Script: Write a script to run services concurrently.\n",
    "Docker Compose: Manage services via Docker containers and docker-compose.yml."
   ]
  },
  {
   "cell_type": "code",
   "execution_count": null,
   "metadata": {
    "vscode": {
     "languageId": "bat"
    }
   },
   "outputs": [],
   "source": [
    "$ go work use queue"
   ]
  },
  {
   "cell_type": "markdown",
   "metadata": {},
   "source": [
    "Option 1: Use Multiple Terminals\n",
    "In separate terminal windows (or tabs), you can run each module manually:"
   ]
  },
  {
   "cell_type": "markdown",
   "metadata": {},
   "source": [
    "Run ./queue module:"
   ]
  },
  {
   "cell_type": "code",
   "execution_count": null,
   "metadata": {
    "vscode": {
     "languageId": "bat"
    }
   },
   "outputs": [],
   "source": [
    "$ go run ./queue/main.go"
   ]
  },
  {
   "cell_type": "markdown",
   "metadata": {},
   "source": [
    "Run ./services/procurement module:"
   ]
  },
  {
   "cell_type": "code",
   "execution_count": null,
   "metadata": {
    "vscode": {
     "languageId": "bat"
    }
   },
   "outputs": [],
   "source": [
    "$ go run ./services/procurement/main.go"
   ]
  },
  {
   "cell_type": "markdown",
   "metadata": {},
   "source": [
    "Repeat the same for other modules (e.g., ./services/maintenance)."
   ]
  },
  {
   "cell_type": "markdown",
   "metadata": {},
   "source": [
    "Option 2: Use a Makefile for Parallel Execution\n",
    "You can use a Makefile to run multiple services simultaneously. The make utility allows you to define tasks that can run commands in parallel."
   ]
  },
  {
   "cell_type": "markdown",
   "metadata": {},
   "source": [
    "Create a Makefile in your workspace root:"
   ]
  },
  {
   "cell_type": "code",
   "execution_count": null,
   "metadata": {
    "vscode": {
     "languageId": "shellscript"
    }
   },
   "outputs": [],
   "source": [
    ".PHONY: run-all queue procurement maintenance\n",
    "\n",
    "run-all: queue procurement maintenance\n",
    "\n",
    "queue:\n",
    "\tgo run ./queue/main.go &\n",
    "\n",
    "procurement:\n",
    "\tgo run ./services/procurement/main.go &\n",
    "\n",
    "maintenance:\n",
    "\tgo run ./services/maintenance/main.go &"
   ]
  },
  {
   "cell_type": "markdown",
   "metadata": {},
   "source": [
    "Run all services at once:"
   ]
  },
  {
   "cell_type": "code",
   "execution_count": null,
   "metadata": {
    "vscode": {
     "languageId": "bat"
    }
   },
   "outputs": [],
   "source": [
    "$ make run-all"
   ]
  },
  {
   "cell_type": "markdown",
   "metadata": {},
   "source": [
    "This will run all services in the background. The & allows each service to run in parallel."
   ]
  },
  {
   "cell_type": "markdown",
   "metadata": {},
   "source": [
    "Option 3: Use a Script to Run All Modules\n",
    "You can write a simple Bash script to run all services at once:"
   ]
  },
  {
   "cell_type": "markdown",
   "metadata": {},
   "source": [
    "Create a script run_all.sh in your workspace root:"
   ]
  },
  {
   "cell_type": "code",
   "execution_count": null,
   "metadata": {
    "vscode": {
     "languageId": "shellscript"
    }
   },
   "outputs": [],
   "source": [
    "#!/bin/bash\n",
    "\n",
    "go run ./queue/main.go &\n",
    "go run ./services/procurement/main.go &\n",
    "go run ./services/maintenance/main.go &\n",
    "\n",
    "# Add more services as needed"
   ]
  },
  {
   "cell_type": "markdown",
   "metadata": {},
   "source": [
    "Make the script executable:"
   ]
  },
  {
   "cell_type": "code",
   "execution_count": null,
   "metadata": {
    "vscode": {
     "languageId": "bat"
    }
   },
   "outputs": [],
   "source": [
    "$ chmod +x run_all.sh"
   ]
  },
  {
   "cell_type": "markdown",
   "metadata": {},
   "source": [
    "Run the script:"
   ]
  },
  {
   "cell_type": "code",
   "execution_count": null,
   "metadata": {
    "vscode": {
     "languageId": "bat"
    }
   },
   "outputs": [],
   "source": [
    "$ ./run_all.sh"
   ]
  },
  {
   "cell_type": "code",
   "execution_count": null,
   "metadata": {
    "vscode": {
     "languageId": "bat"
    }
   },
   "outputs": [],
   "source": [
    " ./run_all.sh\n"
   ]
  },
  {
   "cell_type": "markdown",
   "metadata": {},
   "source": [
    "This script will start all the services in the background."
   ]
  },
  {
   "cell_type": "markdown",
   "metadata": {},
   "source": [
    "**Option 4: Use Docker Compose for All Modules**\n",
    "Since you're already using Docker in your project, you can define services in `docker-compose.yml` to run all modules within containers."
   ]
  },
  {
   "cell_type": "markdown",
   "metadata": {},
   "source": [
    "Edit your docker-compose.yml to include all modules:"
   ]
  },
  {
   "cell_type": "code",
   "execution_count": null,
   "metadata": {
    "vscode": {
     "languageId": "shellscript"
    }
   },
   "outputs": [],
   "source": [
    "version: \"3.8\"\n",
    "services:\n",
    "  queue:\n",
    "    build: ./queue\n",
    "    command: go run main.go\n",
    "\n",
    "  procurement:\n",
    "    build: ./services/procurement\n",
    "    command: go run main.go\n",
    "\n",
    "  maintenance:\n",
    "    build: ./services/maintenance\n",
    "    command: go run main.go\n",
    "\n",
    "# Add more services as needed"
   ]
  },
  {
   "cell_type": "markdown",
   "metadata": {},
   "source": [
    "Run all services:"
   ]
  },
  {
   "cell_type": "code",
   "execution_count": null,
   "metadata": {
    "vscode": {
     "languageId": "bat"
    }
   },
   "outputs": [],
   "source": [
    "$ docker-compose up --build"
   ]
  }
 ],
 "metadata": {
  "language_info": {
   "name": "python"
  }
 },
 "nbformat": 4,
 "nbformat_minor": 2
}
