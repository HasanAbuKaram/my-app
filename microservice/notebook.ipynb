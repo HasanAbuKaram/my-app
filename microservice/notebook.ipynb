{
 "cells": [
  {
   "cell_type": "code",
   "execution_count": null,
   "metadata": {
    "vscode": {
     "languageId": "shellscript"
    }
   },
   "outputs": [],
   "source": [
    "docker run -e POSTGRES_PASSWORD=mysecretpassword -d -p 5432:5432 --name my_oistgres_container postgres"
   ]
  },
  {
   "cell_type": "markdown",
   "metadata": {},
   "source": [
    "Get the ip pf my database: mypgdb"
   ]
  },
  {
   "cell_type": "code",
   "execution_count": null,
   "metadata": {
    "vscode": {
     "languageId": "shellscript"
    }
   },
   "outputs": [],
   "source": [
    "docker inspect -f '{{range .NetworkSettings.Networks}}{{.IPAddress}}{{end}}' wildfly_server"
   ]
  },
  {
   "cell_type": "markdown",
   "metadata": {},
   "source": [
    "I got: 172.19.0.2"
   ]
  },
  {
   "cell_type": "markdown",
   "metadata": {},
   "source": [
    "Log interactive with the pg image"
   ]
  },
  {
   "cell_type": "code",
   "execution_count": null,
   "metadata": {
    "vscode": {
     "languageId": "shellscript"
    }
   },
   "outputs": [],
   "source": [
    "$ docker exec -it wildfly_server psql -U admin@pg\n",
    "psql (17.0 (Debian 17.0-1.pgdg120+1))\n",
    "Type \"help\" for help.\n",
    "\n",
    "admin@pg=# "
   ]
  },
  {
   "cell_type": "markdown",
   "metadata": {},
   "source": [
    "Below link is a good tutorial how to handle Pg and PgAdmin docker"
   ]
  },
  {
   "cell_type": "markdown",
   "metadata": {},
   "source": [
    "https://medium.com/@marvinjungre/get-postgresql-and-pgadmin-4-up-and-running-with-docker-4a8d81048aea#:~:text=In%20this%20article,%20we%E2%80%99ll%20walk%20through%20the%20steps%20of%20installing"
   ]
  }
 ],
 "metadata": {
  "language_info": {
   "name": "python"
  }
 },
 "nbformat": 4,
 "nbformat_minor": 2
}
